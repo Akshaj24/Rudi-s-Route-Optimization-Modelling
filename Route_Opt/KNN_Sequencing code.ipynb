{
  "nbformat": 4,
  "nbformat_minor": 0,
  "metadata": {
    "colab": {
      "provenance": []
    },
    "kernelspec": {
      "name": "python3",
      "display_name": "Python 3"
    },
    "language_info": {
      "name": "python"
    }
  },
  "cells": [
    {
      "cell_type": "code",
      "source": [
        "from google.colab import drive\n",
        "drive.mount('/content/drive')\n"
      ],
      "metadata": {
        "colab": {
          "base_uri": "https://localhost:8080/"
        },
        "id": "FK0RsBn9aEzp",
        "outputId": "ade95bd4-25e4-4239-8fe6-4b015c261d43"
      },
      "execution_count": 8,
      "outputs": [
        {
          "output_type": "stream",
          "name": "stdout",
          "text": [
            "Drive already mounted at /content/drive; to attempt to forcibly remount, call drive.mount(\"/content/drive\", force_remount=True).\n"
          ]
        }
      ]
    },
    {
      "cell_type": "code",
      "execution_count": 14,
      "metadata": {
        "colab": {
          "base_uri": "https://localhost:8080/"
        },
        "id": "1G4G5a_eZMqs",
        "outputId": "ca1ac8ae-04d9-4ee7-97f3-f541601cf7b5"
      },
      "outputs": [
        {
          "output_type": "stream",
          "name": "stdout",
          "text": [
            "         Depot   1   2   3   4   5   6   7   8   9  ...  43  44  45  46  47  \\\n",
            "FROM/TO                                             ...                       \n",
            "Depot        0  18  10  18  13  19  12  16  20  17  ...  41  14  20  13  22   \n",
            "1           18   0  20  13  17  27  25  14  25   7  ...  46  18  26  19  27   \n",
            "2           10  20   0  16  11  23  15  16  18  21  ...  40  13  19  12  21   \n",
            "3           18  13  16   0  10  26  18   7  15  11  ...  37   8  16   8  17   \n",
            "4           13  17  11  10   0  22  14  10  15  17  ...  37   5  16   7  18   \n",
            "\n",
            "         48  49  50  51  52  \n",
            "FROM/TO                      \n",
            "Depot    20  42  39  14  56  \n",
            "1        12  47  45  18  64  \n",
            "2        20  41  38  13  60  \n",
            "3         9  38  35  10  63  \n",
            "4        13  38  36   5  59  \n",
            "\n",
            "[5 rows x 53 columns]\n"
          ]
        }
      ],
      "source": [
        "import pandas as pd\n",
        "import numpy as np\n",
        "\n",
        "# Load the transit time matrix\n",
        "file_path = \"/content/drive/MyDrive/Time_matrix.xlsx\"  # Update with the actual file path\n",
        "transit_time_matrix = pd.read_excel(file_path, index_col=0)\n",
        "#transit_time_matrix.columns = transit_time_matrix.iloc[0]  # Assuming the first row contains the column names\n",
        "#transit_time_matrix = transit_time_matrix.drop(transit_time_matrix.index[0])  # Remove the duplicate first row\n",
        "#transit_time_matrix = transit_time_matrix.apply(pd.to_numeric, errors='ignore')  # Convert values to numeric\n",
        "\n",
        "print(transit_time_matrix.head())\n",
        "\n"
      ]
    },
    {
      "cell_type": "code",
      "source": [
        "import pandas as pd\n",
        "\n",
        "# Nearest neighbor clustering function\n",
        "def nearest_neighbor_clustering(transit_matrix):\n",
        "    group1, group2 = [], []\n",
        "    stores = [store for store in transit_matrix.columns if store != 'Depot']\n",
        "    unassigned_stores = set(stores)\n",
        "    current_location = 'Depot'\n",
        "    toggle = True\n",
        "\n",
        "    while unassigned_stores:\n",
        "        nearest_store = transit_matrix.loc[current_location, unassigned_stores].idxmin()\n",
        "        if toggle:\n",
        "            group1.append(nearest_store)\n",
        "        else:\n",
        "            group2.append(nearest_store)\n",
        "        toggle = not toggle\n",
        "        unassigned_stores.remove(nearest_store)\n",
        "        current_location = nearest_store\n",
        "\n",
        "    return group1, group2\n",
        "\n",
        "# Apply the clustering\n",
        "group1, group2 = nearest_neighbor_clustering(transit_time_matrix)\n",
        "\n",
        "# Prepare the data for Excel output\n",
        "output_df = pd.DataFrame({\n",
        "    \"Group 1\": pd.Series(group1).append(pd.Series([None] * (len(group2) - len(group1))), ignore_index=True),  # Pad the shorter list if necessary\n",
        "    \"Group 2\": pd.Series(group2)\n",
        "})\n",
        "\n",
        "#Define the path for the Excel file output\n",
        "output_excel_path = '/content/drive/My Drive/grouped_stores_sequence.xlsx'\n",
        "\n",
        "# Export to Excel\n",
        "output_df.to_excel(output_excel_path, index=False)\n"
      ],
      "metadata": {
        "colab": {
          "base_uri": "https://localhost:8080/"
        },
        "id": "0-Kz1CYfZdE_",
        "outputId": "84fa3014-7370-4388-e8a2-9ed2f0475f89"
      },
      "execution_count": 27,
      "outputs": [
        {
          "output_type": "stream",
          "name": "stderr",
          "text": [
            "<ipython-input-27-b8db849d464e>:12: FutureWarning: Passing a set as an indexer is deprecated and will raise in a future version. Use a list instead.\n",
            "  nearest_store = transit_matrix.loc[current_location, unassigned_stores].idxmin()\n",
            "<ipython-input-27-b8db849d464e>:12: FutureWarning: Passing a set as an indexer is deprecated and will raise in a future version. Use a list instead.\n",
            "  nearest_store = transit_matrix.loc[current_location, unassigned_stores].idxmin()\n",
            "<ipython-input-27-b8db849d464e>:12: FutureWarning: Passing a set as an indexer is deprecated and will raise in a future version. Use a list instead.\n",
            "  nearest_store = transit_matrix.loc[current_location, unassigned_stores].idxmin()\n",
            "<ipython-input-27-b8db849d464e>:12: FutureWarning: Passing a set as an indexer is deprecated and will raise in a future version. Use a list instead.\n",
            "  nearest_store = transit_matrix.loc[current_location, unassigned_stores].idxmin()\n",
            "<ipython-input-27-b8db849d464e>:12: FutureWarning: Passing a set as an indexer is deprecated and will raise in a future version. Use a list instead.\n",
            "  nearest_store = transit_matrix.loc[current_location, unassigned_stores].idxmin()\n",
            "<ipython-input-27-b8db849d464e>:12: FutureWarning: Passing a set as an indexer is deprecated and will raise in a future version. Use a list instead.\n",
            "  nearest_store = transit_matrix.loc[current_location, unassigned_stores].idxmin()\n",
            "<ipython-input-27-b8db849d464e>:12: FutureWarning: Passing a set as an indexer is deprecated and will raise in a future version. Use a list instead.\n",
            "  nearest_store = transit_matrix.loc[current_location, unassigned_stores].idxmin()\n",
            "<ipython-input-27-b8db849d464e>:12: FutureWarning: Passing a set as an indexer is deprecated and will raise in a future version. Use a list instead.\n",
            "  nearest_store = transit_matrix.loc[current_location, unassigned_stores].idxmin()\n",
            "<ipython-input-27-b8db849d464e>:12: FutureWarning: Passing a set as an indexer is deprecated and will raise in a future version. Use a list instead.\n",
            "  nearest_store = transit_matrix.loc[current_location, unassigned_stores].idxmin()\n",
            "<ipython-input-27-b8db849d464e>:12: FutureWarning: Passing a set as an indexer is deprecated and will raise in a future version. Use a list instead.\n",
            "  nearest_store = transit_matrix.loc[current_location, unassigned_stores].idxmin()\n",
            "<ipython-input-27-b8db849d464e>:12: FutureWarning: Passing a set as an indexer is deprecated and will raise in a future version. Use a list instead.\n",
            "  nearest_store = transit_matrix.loc[current_location, unassigned_stores].idxmin()\n",
            "<ipython-input-27-b8db849d464e>:12: FutureWarning: Passing a set as an indexer is deprecated and will raise in a future version. Use a list instead.\n",
            "  nearest_store = transit_matrix.loc[current_location, unassigned_stores].idxmin()\n",
            "<ipython-input-27-b8db849d464e>:12: FutureWarning: Passing a set as an indexer is deprecated and will raise in a future version. Use a list instead.\n",
            "  nearest_store = transit_matrix.loc[current_location, unassigned_stores].idxmin()\n",
            "<ipython-input-27-b8db849d464e>:12: FutureWarning: Passing a set as an indexer is deprecated and will raise in a future version. Use a list instead.\n",
            "  nearest_store = transit_matrix.loc[current_location, unassigned_stores].idxmin()\n",
            "<ipython-input-27-b8db849d464e>:12: FutureWarning: Passing a set as an indexer is deprecated and will raise in a future version. Use a list instead.\n",
            "  nearest_store = transit_matrix.loc[current_location, unassigned_stores].idxmin()\n",
            "<ipython-input-27-b8db849d464e>:12: FutureWarning: Passing a set as an indexer is deprecated and will raise in a future version. Use a list instead.\n",
            "  nearest_store = transit_matrix.loc[current_location, unassigned_stores].idxmin()\n",
            "<ipython-input-27-b8db849d464e>:12: FutureWarning: Passing a set as an indexer is deprecated and will raise in a future version. Use a list instead.\n",
            "  nearest_store = transit_matrix.loc[current_location, unassigned_stores].idxmin()\n",
            "<ipython-input-27-b8db849d464e>:12: FutureWarning: Passing a set as an indexer is deprecated and will raise in a future version. Use a list instead.\n",
            "  nearest_store = transit_matrix.loc[current_location, unassigned_stores].idxmin()\n",
            "<ipython-input-27-b8db849d464e>:12: FutureWarning: Passing a set as an indexer is deprecated and will raise in a future version. Use a list instead.\n",
            "  nearest_store = transit_matrix.loc[current_location, unassigned_stores].idxmin()\n",
            "<ipython-input-27-b8db849d464e>:12: FutureWarning: Passing a set as an indexer is deprecated and will raise in a future version. Use a list instead.\n",
            "  nearest_store = transit_matrix.loc[current_location, unassigned_stores].idxmin()\n",
            "<ipython-input-27-b8db849d464e>:12: FutureWarning: Passing a set as an indexer is deprecated and will raise in a future version. Use a list instead.\n",
            "  nearest_store = transit_matrix.loc[current_location, unassigned_stores].idxmin()\n",
            "<ipython-input-27-b8db849d464e>:12: FutureWarning: Passing a set as an indexer is deprecated and will raise in a future version. Use a list instead.\n",
            "  nearest_store = transit_matrix.loc[current_location, unassigned_stores].idxmin()\n",
            "<ipython-input-27-b8db849d464e>:12: FutureWarning: Passing a set as an indexer is deprecated and will raise in a future version. Use a list instead.\n",
            "  nearest_store = transit_matrix.loc[current_location, unassigned_stores].idxmin()\n",
            "<ipython-input-27-b8db849d464e>:12: FutureWarning: Passing a set as an indexer is deprecated and will raise in a future version. Use a list instead.\n",
            "  nearest_store = transit_matrix.loc[current_location, unassigned_stores].idxmin()\n",
            "<ipython-input-27-b8db849d464e>:12: FutureWarning: Passing a set as an indexer is deprecated and will raise in a future version. Use a list instead.\n",
            "  nearest_store = transit_matrix.loc[current_location, unassigned_stores].idxmin()\n",
            "<ipython-input-27-b8db849d464e>:12: FutureWarning: Passing a set as an indexer is deprecated and will raise in a future version. Use a list instead.\n",
            "  nearest_store = transit_matrix.loc[current_location, unassigned_stores].idxmin()\n",
            "<ipython-input-27-b8db849d464e>:12: FutureWarning: Passing a set as an indexer is deprecated and will raise in a future version. Use a list instead.\n",
            "  nearest_store = transit_matrix.loc[current_location, unassigned_stores].idxmin()\n",
            "<ipython-input-27-b8db849d464e>:12: FutureWarning: Passing a set as an indexer is deprecated and will raise in a future version. Use a list instead.\n",
            "  nearest_store = transit_matrix.loc[current_location, unassigned_stores].idxmin()\n",
            "<ipython-input-27-b8db849d464e>:12: FutureWarning: Passing a set as an indexer is deprecated and will raise in a future version. Use a list instead.\n",
            "  nearest_store = transit_matrix.loc[current_location, unassigned_stores].idxmin()\n",
            "<ipython-input-27-b8db849d464e>:12: FutureWarning: Passing a set as an indexer is deprecated and will raise in a future version. Use a list instead.\n",
            "  nearest_store = transit_matrix.loc[current_location, unassigned_stores].idxmin()\n",
            "<ipython-input-27-b8db849d464e>:12: FutureWarning: Passing a set as an indexer is deprecated and will raise in a future version. Use a list instead.\n",
            "  nearest_store = transit_matrix.loc[current_location, unassigned_stores].idxmin()\n",
            "<ipython-input-27-b8db849d464e>:12: FutureWarning: Passing a set as an indexer is deprecated and will raise in a future version. Use a list instead.\n",
            "  nearest_store = transit_matrix.loc[current_location, unassigned_stores].idxmin()\n",
            "<ipython-input-27-b8db849d464e>:12: FutureWarning: Passing a set as an indexer is deprecated and will raise in a future version. Use a list instead.\n",
            "  nearest_store = transit_matrix.loc[current_location, unassigned_stores].idxmin()\n",
            "<ipython-input-27-b8db849d464e>:12: FutureWarning: Passing a set as an indexer is deprecated and will raise in a future version. Use a list instead.\n",
            "  nearest_store = transit_matrix.loc[current_location, unassigned_stores].idxmin()\n",
            "<ipython-input-27-b8db849d464e>:12: FutureWarning: Passing a set as an indexer is deprecated and will raise in a future version. Use a list instead.\n",
            "  nearest_store = transit_matrix.loc[current_location, unassigned_stores].idxmin()\n",
            "<ipython-input-27-b8db849d464e>:12: FutureWarning: Passing a set as an indexer is deprecated and will raise in a future version. Use a list instead.\n",
            "  nearest_store = transit_matrix.loc[current_location, unassigned_stores].idxmin()\n",
            "<ipython-input-27-b8db849d464e>:12: FutureWarning: Passing a set as an indexer is deprecated and will raise in a future version. Use a list instead.\n",
            "  nearest_store = transit_matrix.loc[current_location, unassigned_stores].idxmin()\n",
            "<ipython-input-27-b8db849d464e>:12: FutureWarning: Passing a set as an indexer is deprecated and will raise in a future version. Use a list instead.\n",
            "  nearest_store = transit_matrix.loc[current_location, unassigned_stores].idxmin()\n",
            "<ipython-input-27-b8db849d464e>:12: FutureWarning: Passing a set as an indexer is deprecated and will raise in a future version. Use a list instead.\n",
            "  nearest_store = transit_matrix.loc[current_location, unassigned_stores].idxmin()\n",
            "<ipython-input-27-b8db849d464e>:12: FutureWarning: Passing a set as an indexer is deprecated and will raise in a future version. Use a list instead.\n",
            "  nearest_store = transit_matrix.loc[current_location, unassigned_stores].idxmin()\n",
            "<ipython-input-27-b8db849d464e>:12: FutureWarning: Passing a set as an indexer is deprecated and will raise in a future version. Use a list instead.\n",
            "  nearest_store = transit_matrix.loc[current_location, unassigned_stores].idxmin()\n",
            "<ipython-input-27-b8db849d464e>:12: FutureWarning: Passing a set as an indexer is deprecated and will raise in a future version. Use a list instead.\n",
            "  nearest_store = transit_matrix.loc[current_location, unassigned_stores].idxmin()\n",
            "<ipython-input-27-b8db849d464e>:12: FutureWarning: Passing a set as an indexer is deprecated and will raise in a future version. Use a list instead.\n",
            "  nearest_store = transit_matrix.loc[current_location, unassigned_stores].idxmin()\n",
            "<ipython-input-27-b8db849d464e>:12: FutureWarning: Passing a set as an indexer is deprecated and will raise in a future version. Use a list instead.\n",
            "  nearest_store = transit_matrix.loc[current_location, unassigned_stores].idxmin()\n",
            "<ipython-input-27-b8db849d464e>:12: FutureWarning: Passing a set as an indexer is deprecated and will raise in a future version. Use a list instead.\n",
            "  nearest_store = transit_matrix.loc[current_location, unassigned_stores].idxmin()\n",
            "<ipython-input-27-b8db849d464e>:12: FutureWarning: Passing a set as an indexer is deprecated and will raise in a future version. Use a list instead.\n",
            "  nearest_store = transit_matrix.loc[current_location, unassigned_stores].idxmin()\n",
            "<ipython-input-27-b8db849d464e>:12: FutureWarning: Passing a set as an indexer is deprecated and will raise in a future version. Use a list instead.\n",
            "  nearest_store = transit_matrix.loc[current_location, unassigned_stores].idxmin()\n",
            "<ipython-input-27-b8db849d464e>:12: FutureWarning: Passing a set as an indexer is deprecated and will raise in a future version. Use a list instead.\n",
            "  nearest_store = transit_matrix.loc[current_location, unassigned_stores].idxmin()\n",
            "<ipython-input-27-b8db849d464e>:12: FutureWarning: Passing a set as an indexer is deprecated and will raise in a future version. Use a list instead.\n",
            "  nearest_store = transit_matrix.loc[current_location, unassigned_stores].idxmin()\n",
            "<ipython-input-27-b8db849d464e>:12: FutureWarning: Passing a set as an indexer is deprecated and will raise in a future version. Use a list instead.\n",
            "  nearest_store = transit_matrix.loc[current_location, unassigned_stores].idxmin()\n",
            "<ipython-input-27-b8db849d464e>:12: FutureWarning: Passing a set as an indexer is deprecated and will raise in a future version. Use a list instead.\n",
            "  nearest_store = transit_matrix.loc[current_location, unassigned_stores].idxmin()\n",
            "<ipython-input-27-b8db849d464e>:12: FutureWarning: Passing a set as an indexer is deprecated and will raise in a future version. Use a list instead.\n",
            "  nearest_store = transit_matrix.loc[current_location, unassigned_stores].idxmin()\n",
            "<ipython-input-27-b8db849d464e>:28: FutureWarning: The default dtype for empty Series will be 'object' instead of 'float64' in a future version. Specify a dtype explicitly to silence this warning.\n",
            "  \"Group 1\": pd.Series(group1).append(pd.Series([None] * (len(group2) - len(group1))), ignore_index=True),  # Pad the shorter list if necessary\n",
            "<ipython-input-27-b8db849d464e>:28: FutureWarning: The series.append method is deprecated and will be removed from pandas in a future version. Use pandas.concat instead.\n",
            "  \"Group 1\": pd.Series(group1).append(pd.Series([None] * (len(group2) - len(group1))), ignore_index=True),  # Pad the shorter list if necessary\n"
          ]
        }
      ]
    }
  ]
}